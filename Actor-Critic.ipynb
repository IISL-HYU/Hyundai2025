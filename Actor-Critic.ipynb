{
 "cells": [
  {
   "cell_type": "markdown",
   "metadata": {
    "id": "u7J_pnJbUCeJ"
   },
   "source": [
    "***250707 홍송남 교수님 <현대자동차 Bootcamp 실습자료> - Q-learning***"
   ]
  },
  {
   "cell_type": "markdown",
   "metadata": {
    "id": "mP9qKpmxUA34"
   },
   "source": [
    "##0. Visualize\n",
    "###0.1. 필요한 패키지 설치\n",
    "  - `ffmpeg`, `imageio`: 비디오/오디오의 인코딩 및 디코딩, 입출력 패키지입니다.\n",
    "  - `gymnasium[classic_control]`: 강화학습 환경 라이브러리 중 classic control 모듈을 설치합니다."
   ]
  },
  {
   "cell_type": "code",
   "execution_count": 55,
   "metadata": {
    "colab": {
     "base_uri": "https://localhost:8080/"
    },
    "executionInfo": {
     "elapsed": 23245,
     "status": "ok",
     "timestamp": 1751854232384,
     "user": {
      "displayName": "권도혁",
      "userId": "06398135741512265802"
     },
     "user_tz": -540
    },
    "id": "WBtRg-bEf6gI",
    "outputId": "79e12105-9a76-4a88-a91b-59669c343548"
   },
   "outputs": [
    {
     "name": "stdout",
     "output_type": "stream",
     "text": [
      "W: Skipping acquire of configured file 'main/source/Sources' as repository 'https://r2u.stat.illinois.edu/ubuntu jammy InRelease' does not seem to provide it (sources.list entry misspelt?)\n"
     ]
    }
   ],
   "source": [
    "!apt-get update -qq\n",
    "!apt-get install -y ffmpeg > /dev/null\n",
    "!pip install gymnasium[classic_control] imageio imageio-ffmpeg > /dev/null 2>&1"
   ]
  },
  {
   "cell_type": "markdown",
   "metadata": {
    "id": "QctxaBNqVe5c"
   },
   "source": [
    "### 0.2. 비디오 관련 함수 정의\n",
    "- 학습 결과를 시각적으로 확인하기 위해 결과를 이미지 프레임단위로 저장하여 비디오로 렌더링합니다.\n",
    "- 이를 저장하고 colab상에서 재생하기 위한 함수 `show_video`를 정의합니다."
   ]
  },
  {
   "cell_type": "code",
   "execution_count": 56,
   "metadata": {
    "executionInfo": {
     "elapsed": 15,
     "status": "ok",
     "timestamp": 1751854232402,
     "user": {
      "displayName": "권도혁",
      "userId": "06398135741512265802"
     },
     "user_tz": -540
    },
    "id": "ayF7thdyslb4"
   },
   "outputs": [],
   "source": [
    "import os, glob, io, base64\n",
    "from IPython.display import HTML, display\n",
    "\n",
    "os.makedirs('video', exist_ok=True)\n",
    "\n",
    "def show_video(name):\n",
    "    mp4list = glob.glob(f'video/{name}.mp4')\n",
    "    if mp4list:\n",
    "        mp4 = mp4list[0]\n",
    "        video = io.open(mp4,'r+b').read()\n",
    "        encoded = base64.b64encode(video)\n",
    "        display(HTML(f'''\n",
    "            <video autoplay controls style=\"max-height: 400;\">\n",
    "              <source src=\"data:video/mp4;base64,{encoded.decode('ascii')}\" type=\"video/mp4\"/>\n",
    "            </video>'''))\n",
    "    else:\n",
    "        print(\"Could not find video\")\n"
   ]
  },
  {
   "cell_type": "markdown",
   "metadata": {
    "id": "Rw8k9uNmVa6s"
   },
   "source": [
    "---\n",
    "## 1. Gym environment 구축"
   ]
  },
  {
   "cell_type": "code",
   "execution_count": 57,
   "metadata": {
    "executionInfo": {
     "elapsed": 50,
     "status": "ok",
     "timestamp": 1751854232453,
     "user": {
      "displayName": "권도혁",
      "userId": "06398135741512265802"
     },
     "user_tz": -540
    },
    "id": "9lmb0Zd9XR0q"
   },
   "outputs": [],
   "source": [
    "import gymnasium as gym\n",
    "\n",
    "env = gym.make('CartPole-v1', render_mode='rgb_array')"
   ]
  },
  {
   "cell_type": "markdown",
   "metadata": {
    "id": "3w6L-AeW4jJ5"
   },
   "source": [
    "Gym Environment options\n",
    "- `env.observation_space.n`: Dimension of State space\n",
    "- `env.action_space.n`: Dimension of Action space\n",
    "- Others : https://gymnasium.farama.org/api/env/"
   ]
  },
  {
   "cell_type": "code",
   "execution_count": 58,
   "metadata": {
    "colab": {
     "base_uri": "https://localhost:8080/"
    },
    "executionInfo": {
     "elapsed": 3,
     "status": "ok",
     "timestamp": 1751854232458,
     "user": {
      "displayName": "권도혁",
      "userId": "06398135741512265802"
     },
     "user_tz": -540
    },
    "id": "bX2JUpVprI4y",
    "outputId": "013b12bf-f4f7-4c04-9e11-3584c84d2416"
   },
   "outputs": [
    {
     "name": "stdout",
     "output_type": "stream",
     "text": [
      "State  : 4\n",
      "Action : 2\n"
     ]
    }
   ],
   "source": [
    "state_dim = env.observation_space.shape[0]\n",
    "action_dim = env.action_space.n\n",
    "\n",
    "print(\"State  :\", state_dim)\n",
    "print(\"Action :\", action_dim)\n"
   ]
  },
  {
   "cell_type": "markdown",
   "metadata": {
    "id": "CuwJGysGWp3t"
   },
   "source": [
    "---\n",
    "## 2. Actor-Critic"
   ]
  },
  {
   "cell_type": "markdown",
   "metadata": {
    "id": "5o5vYoaz4sZy"
   },
   "source": [
    "### 2.1. Actor 및 Critic Network 정의"
   ]
  },
  {
   "cell_type": "code",
   "execution_count": 59,
   "metadata": {
    "executionInfo": {
     "elapsed": 1,
     "status": "ok",
     "timestamp": 1751854232459,
     "user": {
      "displayName": "권도혁",
      "userId": "06398135741512265802"
     },
     "user_tz": -540
    },
    "id": "OCDHw6PeYKuz"
   },
   "outputs": [],
   "source": [
    "import torch\n",
    "import torch.nn as nn\n",
    "import torch.nn.functional as F\n",
    "\n",
    "# Actor (Policy) Network\n",
    "class PolicyNetwork(nn.Module):\n",
    "    def __init__(self, state_dim, action_dim, hidden_dim=128):\n",
    "        super(PolicyNetwork, self).__init__()\n",
    "        self.fc1 = nn.Linear(state_dim, hidden_dim)\n",
    "        self.fc2 = nn.Linear(hidden_dim, action_dim)\n",
    "\n",
    "    def forward(self, x):\n",
    "        x = F.relu(self.fc1(x))\n",
    "        action_probs = F.softmax(self.fc2(x), dim=-1)\n",
    "        return action_probs\n",
    "\n",
    "\n",
    "# Critic (Value) Network\n",
    "class ValueNetwork(nn.Module):\n",
    "    def __init__(self, state_dim, hidden_dim=128):\n",
    "        super(ValueNetwork, self).__init__()\n",
    "        self.fc1 = nn.Linear(state_dim, hidden_dim)\n",
    "        self.fc2 = nn.Linear(hidden_dim, 1)\n",
    "\n",
    "    def forward(self, x):\n",
    "        x = F.relu(self.fc1(x))\n",
    "        state_value = self.fc2(x)\n",
    "        return state_value.squeeze(-1)"
   ]
  },
  {
   "cell_type": "markdown",
   "metadata": {
    "id": "Aae6T0ei6SPk"
   },
   "source": [
    "### 2.2 Actor 및 Critic Network 생성\n",
    "- learning rate\n",
    "  - Actor: 0.0003\n",
    "  - Critic: 0.001\n",
    "- Optimizer: ADAM"
   ]
  },
  {
   "cell_type": "code",
   "execution_count": 60,
   "metadata": {
    "executionInfo": {
     "elapsed": 113,
     "status": "ok",
     "timestamp": 1751854232572,
     "user": {
      "displayName": "권도혁",
      "userId": "06398135741512265802"
     },
     "user_tz": -540
    },
    "id": "3-HyEcsw55a3"
   },
   "outputs": [],
   "source": [
    "import torch.optim as optim\n",
    "\n",
    "critic_learning_rate = 1e-3\n",
    "actor_learning_rate = 3e-4\n",
    "\n",
    "Actor = PolicyNetwork(state_dim, action_dim)\n",
    "Critic = ValueNetwork(state_dim)\n",
    "policy_optimizer = optim.Adam(Actor.parameters(), lr=actor_learning_rate)\n",
    "value_optimizer = optim.Adam(Critic.parameters(), lr=critic_learning_rate)"
   ]
  },
  {
   "cell_type": "code",
   "execution_count": null,
   "metadata": {
    "executionInfo": {
     "elapsed": 113,
     "status": "ok",
     "timestamp": 1751854232573,
     "user": {
      "displayName": "권도혁",
      "userId": "06398135741512265802"
     },
     "user_tz": -540
    },
    "id": "eKUmqnNYYSOu"
   },
   "outputs": [],
   "source": [
    "def Actor_Critic(env, Actor, Critic, policy_optimizer, value_optimizer, n_episodes, gamma=0.99):\n",
    "  for epi in range(n_episodes):\n",
    "    state, _ = env.reset()\n",
    "    done = False\n",
    "    while not done:\n",
    "      # Convert state to tensor\n",
    "      state = torch.as_tensor(state, dtype=torch.float32)\n",
    "\n",
    "      # Actor: get action probabilities and sample\n",
    "      action_probs = Actor(state)\n",
    "      dist = torch.distributions.Categorical(action_probs)\n",
    "      action = dist.sample()\n",
    "\n",
    "      # Environment step\n",
    "      next_state, reward, terminated, truncated, _ = env.step(action.item())\n",
    "      done = terminated or truncated\n",
    "\n",
    "      # Convert next state to tensor\n",
    "      next_state = torch.as_tensor(next_state, dtype=torch.float32)\n",
    "\n",
    "      # Critic: state value estimates\n",
    "      next_state_value = Critic(next_state)\n",
    "      state_value = Critic(state)\n",
    "\n",
    "      # Compute TD error\n",
    "      td_error = reward + gamma * next_state_value * (1 - done) - state_value\n",
    "\n",
    "      # Update Actor (policy)\n",
    "      policy_loss = -dist.log_prob(action) * td_error.detach()\n",
    "      policy_optimizer.zero_grad()\n",
    "      policy_loss.backward()\n",
    "      policy_optimizer.step()\n",
    "\n",
    "      # Update Critic (value)\n",
    "      value_loss = td_error.pow(2)\n",
    "      value_optimizer.zero_grad()\n",
    "      value_loss.backward()\n",
    "      value_optimizer.step()\n",
    "\n",
    "      # Move to next state\n",
    "      state = next_state\n",
    "\n",
    "  return Actor, Critic"
   ]
  },
  {
   "cell_type": "markdown",
   "metadata": {
    "id": "2xstb1Z75AOR"
   },
   "source": [
    "### 2.3. Actor-Critic 학습 수행\n"
   ]
  },
  {
   "cell_type": "code",
   "execution_count": 62,
   "metadata": {
    "colab": {
     "base_uri": "https://localhost:8080/"
    },
    "executionInfo": {
     "elapsed": 456508,
     "status": "ok",
     "timestamp": 1751854689080,
     "user": {
      "displayName": "권도혁",
      "userId": "06398135741512265802"
     },
     "user_tz": -540
    },
    "id": "nGxhKY9mf9dW",
    "outputId": "fe16a64a-50fe-4071-ec11-556da9f9cd71"
   },
   "outputs": [
    {
     "name": "stderr",
     "output_type": "stream",
     "text": [
      "/tmp/ipython-input-61-3240304763.py:7: UserWarning: To copy construct from a tensor, it is recommended to use sourceTensor.clone().detach() or sourceTensor.clone().detach().requires_grad_(True), rather than torch.tensor(sourceTensor).\n",
      "  state = torch.tensor(state, dtype=torch.float32)\n"
     ]
    }
   ],
   "source": [
    "gamma = 0.99        # Discount factor\n",
    "n_episodes = 1000\n",
    "\n",
    "Actor, Critic = Actor_Critic(env, Actor, Critic, policy_optimizer, value_optimizer, n_episodes)"
   ]
  },
  {
   "cell_type": "markdown",
   "metadata": {
    "id": "MjIAki93ie8l"
   },
   "source": [
    "### 2.4. 학습 결과 확인"
   ]
  },
  {
   "cell_type": "code",
   "execution_count": 68,
   "metadata": {
    "colab": {
     "base_uri": "https://localhost:8080/",
     "height": 439
    },
    "executionInfo": {
     "elapsed": 2640,
     "status": "ok",
     "timestamp": 1751854773312,
     "user": {
      "displayName": "권도혁",
      "userId": "06398135741512265802"
     },
     "user_tz": -540
    },
    "id": "jnjrhhZUs7FW",
    "outputId": "55f0b296-8e7a-4d08-97b7-5f422136ce49"
   },
   "outputs": [
    {
     "name": "stdout",
     "output_type": "stream",
     "text": [
      "Steps: 379\n"
     ]
    },
    {
     "data": {
      "text/html": [
       "\n",
       "            <video autoplay controls style=\"max-height: 400;\">\n",
       "              <source src=\"data:video/mp4;base64,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\" type=\"video/mp4\"/>\n",
       "            </video>"
      ],
      "text/plain": [
       "<IPython.core.display.HTML object>"
      ]
     },
     "metadata": {},
     "output_type": "display_data"
    }
   ],
   "source": [
    "import imageio\n",
    "\n",
    "writer = imageio.get_writer('video/actorcritic.mp4', macro_block_size=1, fps=50)\n",
    "state, _ = env.reset()\n",
    "done = False\n",
    "step = 0\n",
    "\n",
    "while not done:\n",
    "    step += 1\n",
    "    frame = env.render()\n",
    "    writer.append_data(frame)\n",
    "\n",
    "    state = torch.tensor(state, dtype=torch.float32)\n",
    "    action_probs = Actor(state)\n",
    "    action = torch.distributions.Categorical(action_probs).sample().item()\n",
    "    state, _, terminated, truncated, _ = env.step(action)\n",
    "    done = terminated or truncated\n",
    "\n",
    "print(\"Steps:\", step)\n",
    "writer.close()\n",
    "env.close()\n",
    "show_video('actorcritic')"
   ]
  },
  {
   "cell_type": "code",
   "execution_count": null,
   "metadata": {
    "id": "_Hap_cw3bWuz"
   },
   "outputs": [],
   "source": []
  }
 ],
 "metadata": {
  "colab": {
   "authorship_tag": "ABX9TyOu8LppCjFmZ1myaEtWdEk3",
   "provenance": []
  },
  "kernelspec": {
   "display_name": "Python 3",
   "name": "python3"
  },
  "language_info": {
   "name": "python"
  }
 },
 "nbformat": 4,
 "nbformat_minor": 0
}
