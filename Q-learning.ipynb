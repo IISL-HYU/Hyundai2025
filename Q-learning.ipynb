{
 "cells": [
  {
   "cell_type": "markdown",
   "metadata": {
    "id": "u7J_pnJbUCeJ"
   },
   "source": [
    "***250707 홍송남 교수님 <현대자동차 Bootcamp 실습자료> - Q-learning***"
   ]
  },
  {
   "cell_type": "markdown",
   "metadata": {
    "id": "mP9qKpmxUA34"
   },
   "source": [
    "##0. Visualize\n",
    "###0.1. 필요한 패키지 설치\n",
    "  - `ffmpeg`, `imageio`: 비디오/오디오의 인코딩 및 디코딩, 입출력 패키지입니다.\n",
    "  - `gymnasium[toy_text]`: 강화학습 환경 라이브러리 중 classic control 모듈을 설치합니다."
   ]
  },
  {
   "cell_type": "code",
   "execution_count": 1,
   "metadata": {
    "colab": {
     "base_uri": "https://localhost:8080/"
    },
    "executionInfo": {
     "elapsed": 22072,
     "status": "ok",
     "timestamp": 1751845422331,
     "user": {
      "displayName": "권도혁",
      "userId": "06398135741512265802"
     },
     "user_tz": -540
    },
    "id": "WBtRg-bEf6gI",
    "outputId": "77188039-3205-454b-ffca-9f10f3aa459b"
   },
   "outputs": [
    {
     "name": "stdout",
     "output_type": "stream",
     "text": [
      "W: Skipping acquire of configured file 'main/source/Sources' as repository 'https://r2u.stat.illinois.edu/ubuntu jammy InRelease' does not seem to provide it (sources.list entry misspelt?)\n"
     ]
    }
   ],
   "source": [
    "!apt-get update -qq\n",
    "!apt-get install -y ffmpeg > /dev/null\n",
    "!pip install gymnasium[toy_text] imageio imageio-ffmpeg > /dev/null 2>&1"
   ]
  },
  {
   "cell_type": "markdown",
   "metadata": {
    "id": "QctxaBNqVe5c"
   },
   "source": [
    "### 0.2. 비디오 관련 함수 정의\n",
    "- 학습 결과를 시각적으로 확인하기 위해 결과를 이미지 프레임단위로 저장하여 비디오로 렌더링합니다.\n",
    "- 이를 저장하고 colab상에서 재생하기 위한 함수 `show_video`를 정의합니다."
   ]
  },
  {
   "cell_type": "code",
   "execution_count": 2,
   "metadata": {
    "executionInfo": {
     "elapsed": 3,
     "status": "ok",
     "timestamp": 1751845426305,
     "user": {
      "displayName": "권도혁",
      "userId": "06398135741512265802"
     },
     "user_tz": -540
    },
    "id": "ayF7thdyslb4"
   },
   "outputs": [],
   "source": [
    "import os, glob, io, base64\n",
    "from IPython.display import HTML, display\n",
    "\n",
    "os.makedirs('video', exist_ok=True)\n",
    "\n",
    "def show_video(name):\n",
    "    mp4list = glob.glob(f'video/{name}.mp4')\n",
    "    if mp4list:\n",
    "        mp4 = mp4list[0]\n",
    "        video = io.open(mp4,'r+b').read()\n",
    "        encoded = base64.b64encode(video)\n",
    "        display(HTML(f'''\n",
    "            <video autoplay controls style=\"max-height: 400px;\">\n",
    "              <source src=\"data:video/mp4;base64,{encoded.decode('ascii')}\" type=\"video/mp4\"/>\n",
    "            </video>'''))\n",
    "    else:\n",
    "        print(\"Could not find video\")\n"
   ]
  },
  {
   "cell_type": "markdown",
   "metadata": {
    "id": "Rw8k9uNmVa6s"
   },
   "source": [
    "---\n",
    "## 1. Gym environment 구축"
   ]
  },
  {
   "cell_type": "code",
   "execution_count": null,
   "metadata": {
    "executionInfo": {
     "elapsed": 62,
     "status": "ok",
     "timestamp": 1751846269779,
     "user": {
      "displayName": "권도혁",
      "userId": "06398135741512265802"
     },
     "user_tz": -540
    },
    "id": "9lmb0Zd9XR0q"
   },
   "outputs": [],
   "source": [
    "import gymnasium as gym\n",
    "\n",
    "env = gym.make('CliffWalking-v1', render_mode='rgb_array')"
   ]
  },
  {
   "cell_type": "markdown",
   "metadata": {
    "id": "3w6L-AeW4jJ5"
   },
   "source": [
    "Gym Environment options\n",
    "- `env.observation_space.n`: Dimension of State space\n",
    "- `env.action_space.n`: Dimension of Action space\n",
    "- Others : https://gymnasium.farama.org/api/env/"
   ]
  },
  {
   "cell_type": "code",
   "execution_count": 49,
   "metadata": {
    "colab": {
     "base_uri": "https://localhost:8080/"
    },
    "executionInfo": {
     "elapsed": 7,
     "status": "ok",
     "timestamp": 1751846270095,
     "user": {
      "displayName": "권도혁",
      "userId": "06398135741512265802"
     },
     "user_tz": -540
    },
    "id": "bX2JUpVprI4y",
    "outputId": "7c4edcd3-e2aa-4a32-d31c-d8bdf3fb9377"
   },
   "outputs": [
    {
     "name": "stdout",
     "output_type": "stream",
     "text": [
      "State  : 16\n",
      "Action : 4\n"
     ]
    }
   ],
   "source": [
    "print(\"State  :\", env.observation_space.n)\n",
    "print(\"Action :\", env.action_space.n)\n"
   ]
  },
  {
   "cell_type": "markdown",
   "metadata": {
    "id": "CuwJGysGWp3t"
   },
   "source": [
    "---\n",
    "## 2. Q-leanring"
   ]
  },
  {
   "cell_type": "markdown",
   "metadata": {
    "id": "5o5vYoaz4sZy"
   },
   "source": [
    "### 2.1. Q-Table 생성 및 초기화\n",
    "$$Q(S, A) = 0 \\;\\;\\;\\forall S, A$$"
   ]
  },
  {
   "cell_type": "code",
   "execution_count": null,
   "metadata": {
    "executionInfo": {
     "elapsed": 7,
     "status": "ok",
     "timestamp": 1751846270667,
     "user": {
      "displayName": "권도혁",
      "userId": "06398135741512265802"
     },
     "user_tz": -540
    },
    "id": "OCDHw6PeYKuz"
   },
   "outputs": [],
   "source": [
    "import numpy as np\n",
    "\n",
    "Q = np.zeros(('''   ''', '''   '''))"
   ]
  },
  {
   "cell_type": "markdown",
   "metadata": {
    "id": "w0dzE_vbb-Bb"
   },
   "source": [
    "### 2.2. Q-learning 함수 구현\n",
    "- $\\epsilon$-greedy policy: $\\epsilon$의 확률로 random action 선택, 그 외에는 Q-Table에서 가장 Q-value가 높은 action 선택\n",
    "  - `np.random.rand()`: [0, 1] 사이의 random 실수값 추출\n",
    "- Bellman Equation update\n",
    "$$Q(S, A) ← Q(S, A) + \\alpha [R+\\gamma\\max_{a'}Q(S',a')-Q(S,A)]$$\n",
    "- $\\alpha$: Learning rate (0~1)\n",
    "- $\\gamma$: Discount factor (0~1)\n",
    "- $\\epsilon$: Exploration probability (0~1)"
   ]
  },
  {
   "cell_type": "code",
   "execution_count": null,
   "metadata": {
    "executionInfo": {
     "elapsed": 3,
     "status": "ok",
     "timestamp": 1751846271021,
     "user": {
      "displayName": "권도혁",
      "userId": "06398135741512265802"
     },
     "user_tz": -540
    },
    "id": "eKUmqnNYYSOu"
   },
   "outputs": [],
   "source": [
    "def Q_learning(env, Q, alpha, gamma, epsilon, n_episodes):\n",
    "  for epi in range(n_episodes):\n",
    "    state, _ = env.reset()\n",
    "    done = False\n",
    "    while not done:\n",
    "        ## 𝜖-greedy policy \n",
    "        '''\n",
    "        \n",
    "        \n",
    "        \n",
    "        '''\n",
    "        next_state, reward, terminated, truncated, _ = env.step(action)\n",
    "        done = terminated or truncated\n",
    "        \n",
    "\n",
    "        ## Bellman Equation Update\n",
    "        best_next = '''  '''\n",
    "        Q[state, action] += '''    '''\n",
    "\n",
    "        state = next_state\n",
    "\n",
    "  return Q"
   ]
  },
  {
   "cell_type": "markdown",
   "metadata": {
    "id": "2xstb1Z75AOR"
   },
   "source": [
    "### 2.3. Q-learning 학습 수행\n"
   ]
  },
  {
   "cell_type": "code",
   "execution_count": null,
   "metadata": {
    "executionInfo": {
     "elapsed": 548,
     "status": "ok",
     "timestamp": 1751846272249,
     "user": {
      "displayName": "권도혁",
      "userId": "06398135741512265802"
     },
     "user_tz": -540
    },
    "id": "nGxhKY9mf9dW"
   },
   "outputs": [],
   "source": [
    "alpha = 0.1         # Learning rate\n",
    "gamma = 0.99        # Discount factor\n",
    "epsilon = 0.1       # Exploration rate\n",
    "n_episodes = 300\n",
    "\n",
    "Q_trained = Q_learning(env, Q.copy(), alpha, gamma, epsilon, n_episodes)"
   ]
  },
  {
   "cell_type": "markdown",
   "metadata": {
    "id": "MjIAki93ie8l"
   },
   "source": [
    "### 2.4. 학습 결과 확인"
   ]
  },
  {
   "cell_type": "code",
   "execution_count": null,
   "metadata": {
    "colab": {
     "base_uri": "https://localhost:8080/",
     "height": 277
    },
    "executionInfo": {
     "elapsed": 518,
     "status": "ok",
     "timestamp": 1751846273234,
     "user": {
      "displayName": "권도혁",
      "userId": "06398135741512265802"
     },
     "user_tz": -540
    },
    "id": "jnjrhhZUs7FW",
    "outputId": "8e2fcc87-4f46-4db6-e96e-6613675468d8"
   },
   "outputs": [],
   "source": [
    "import imageio\n",
    "\n",
    "writer = imageio.get_writer('video/cliffwalking.mp4', fps=10)\n",
    "state, _ = env.reset()\n",
    "done = False\n",
    "step = 0\n",
    "\n",
    "while not done:\n",
    "    step += 1\n",
    "    frame = env.render()\n",
    "    writer.append_data(frame)\n",
    "    action = np.argmax(Q_trained[state])\n",
    "    state, _, terminated, truncated, _ = env.step(action)\n",
    "    done = terminated or truncated or step >= 100\n",
    "\n",
    "writer.close()\n",
    "env.close()\n",
    "show_video('cliffwalking')"
   ]
  },
  {
   "cell_type": "markdown",
   "metadata": {
    "id": "V8cCkWZks1sG"
   },
   "source": [
    "## 3. 기타 실험"
   ]
  },
  {
   "cell_type": "markdown",
   "metadata": {
    "id": "dj7l5c8zz68R"
   },
   "source": [
    "1. **Exploration probability** 가 더 높은 값이라면?\n",
    "2. 유사한 환경인 `FrozenLake`에서 학습에 **더 많은 step**이 필요한 이유?\n",
    "3. **Stochastic transition**의 영향 확인"
   ]
  },
  {
   "cell_type": "code",
   "execution_count": null,
   "metadata": {
    "id": "C9CSjDDfHT1R"
   },
   "outputs": [],
   "source": []
  }
 ],
 "metadata": {
  "colab": {
   "authorship_tag": "ABX9TyOdM82Wy3Ioe26tLweBejUj",
   "provenance": []
  },
  "kernelspec": {
   "display_name": "Python 3",
   "name": "python3"
  },
  "language_info": {
   "name": "python"
  }
 },
 "nbformat": 4,
 "nbformat_minor": 0
}
